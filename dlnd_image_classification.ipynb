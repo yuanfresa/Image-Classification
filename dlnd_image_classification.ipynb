{
 "cells": [
  {
   "cell_type": "markdown",
   "metadata": {
    "collapsed": true,
    "deletable": true,
    "editable": true
   },
   "source": [
    "# Image Classification\n",
    "In this project, you'll classify images from the [CIFAR-10 dataset](https://www.cs.toronto.edu/~kriz/cifar.html).  The dataset consists of airplanes, dogs, cats, and other objects. You'll preprocess the images, then train a convolutional neural network on all the samples. The images need to be normalized and the labels need to be one-hot encoded.  You'll get to apply what you learned and build a convolutional, max pooling, dropout, and fully connected layers.  At the end, you'll get to see your neural network's predictions on the sample images.\n",
    "## Get the Data\n",
    "Run the following cell to download the [CIFAR-10 dataset for python](https://www.cs.toronto.edu/~kriz/cifar-10-python.tar.gz)."
   ]
  },
  {
   "cell_type": "code",
   "execution_count": 17,
   "metadata": {
    "collapsed": false,
    "deletable": true,
    "editable": true
   },
   "outputs": [
    {
     "data": {
      "text/plain": [
       "\"\\nDON'T MODIFY ANYTHING IN THIS CELL THAT IS BELOW THIS LINE\\n\""
      ]
     },
     "execution_count": 17,
     "metadata": {},
     "output_type": "execute_result"
    },
    {
     "name": "stdout",
     "output_type": "stream",
     "text": [
      "All files found!\n"
     ]
    }
   ],
   "source": [
    "\"\"\"\n",
    "DON'T MODIFY ANYTHING IN THIS CELL THAT IS BELOW THIS LINE\n",
    "\"\"\"\n",
    "from urllib.request import urlretrieve\n",
    "from os.path import isfile, isdir\n",
    "from tqdm import tqdm\n",
    "import problem_unittests as tests\n",
    "import tarfile\n",
    "\n",
    "cifar10_dataset_folder_path = 'cifar-10-batches-py'\n",
    "\n",
    "# Use Floyd's cifar-10 dataset if present\n",
    "floyd_cifar10_location = '/input/cifar-10/python.tar.gz'\n",
    "if isfile(floyd_cifar10_location):\n",
    "    tar_gz_path = floyd_cifar10_location\n",
    "else:\n",
    "    tar_gz_path = 'cifar-10-python.tar.gz'\n",
    "\n",
    "class DLProgress(tqdm):\n",
    "    last_block = 0\n",
    "\n",
    "    def hook(self, block_num=1, block_size=1, total_size=None):\n",
    "        self.total = total_size\n",
    "        self.update((block_num - self.last_block) * block_size)\n",
    "        self.last_block = block_num\n",
    "\n",
    "if not isfile(tar_gz_path):\n",
    "    with DLProgress(unit='B', unit_scale=True, miniters=1, desc='CIFAR-10 Dataset') as pbar:\n",
    "        urlretrieve(\n",
    "            'https://www.cs.toronto.edu/~kriz/cifar-10-python.tar.gz',\n",
    "            tar_gz_path,\n",
    "            pbar.hook)\n",
    "\n",
    "if not isdir(cifar10_dataset_folder_path):\n",
    "    with tarfile.open(tar_gz_path) as tar:\n",
    "        tar.extractall()\n",
    "        tar.close()\n",
    "\n",
    "\n",
    "tests.test_folder_path(cifar10_dataset_folder_path)"
   ]
  },
  {
   "cell_type": "markdown",
   "metadata": {
    "deletable": true,
    "editable": true
   },
   "source": [
    "## Explore the Data\n",
    "The dataset is broken into batches to prevent your machine from running out of memory.  The CIFAR-10 dataset consists of 5 batches, named `data_batch_1`, `data_batch_2`, etc.. Each batch contains the labels and images that are one of the following:\n",
    "* airplane\n",
    "* automobile\n",
    "* bird\n",
    "* cat\n",
    "* deer\n",
    "* dog\n",
    "* frog\n",
    "* horse\n",
    "* ship\n",
    "* truck\n",
    "\n",
    "Understanding a dataset is part of making predictions on the data.  Play around with the code cell below by changing the `batch_id` and `sample_id`. The `batch_id` is the id for a batch (1-5). The `sample_id` is the id for a image and label pair in the batch.\n",
    "\n",
    "Ask yourself \"What are all possible labels?\", \"What is the range of values for the image data?\", \"Are the labels in order or random?\".  Answers to questions like these will help you preprocess the data and end up with better predictions."
   ]
  },
  {
   "cell_type": "code",
   "execution_count": 18,
   "metadata": {
    "collapsed": false,
    "deletable": true,
    "editable": true
   },
   "outputs": [
    {
     "name": "stdout",
     "output_type": "stream",
     "text": [
      "\n",
      "Stats of batch 2:\n",
      "Samples: 10000\n",
      "Label Counts: {0: 984, 1: 1007, 2: 1010, 3: 995, 4: 1010, 5: 988, 6: 1008, 7: 1026, 8: 987, 9: 985}\n",
      "First 20 Labels: [1, 6, 6, 8, 8, 3, 4, 6, 0, 6, 0, 3, 6, 6, 5, 4, 8, 3, 2, 6]\n",
      "\n",
      "Example of Image 5:\n",
      "Image - Min Value: 3 Max Value: 219\n",
      "Image - Shape: (32, 32, 3)\n",
      "Label - Label Id: 3 Name: cat\n"
     ]
    },
    {
     "data": {
      "image/png": "[encoded data removed]",
      "text/plain": [
       "<matplotlib.figure.Figure at 0x7f03df68d6a0>"
      ]
     },
     "metadata": {
      "image/png": {
       "height": 250,
       "width": 253
      }
     },
     "output_type": "display_data"
    }
   ],
   "source": [
    "%matplotlib inline\n",
    "%config InlineBackend.figure_format = 'retina'\n",
    "\n",
    "import helper\n",
    "import numpy as np\n",
    "\n",
    "# Explore the dataset\n",
    "batch_id = 2\n",
    "sample_id = 5\n",
    "helper.display_stats(cifar10_dataset_folder_path, batch_id, sample_id)"
   ]
  },
  {
   "cell_type": "markdown",
   "metadata": {
    "deletable": true,
    "editable": true
   },
   "source": [
    "## Implement Preprocess Functions\n",
    "### Normalize\n",
    "In the cell below, implement the `normalize` function to take in image data, `x`, and return it as a normalized Numpy array. The values should be in the range of 0 to 1, inclusive.  The return object should be the same shape as `x`."
   ]
  },
  {
   "cell_type": "code",
   "execution_count": 19,
   "metadata": {
    "collapsed": false,
    "deletable": true,
    "editable": true
   },
   "outputs": [
    {
     "data": {
      "text/plain": [
       "\"\\nDON'T MODIFY ANYTHING IN THIS CELL THAT IS BELOW THIS LINE\\n\""
      ]
     },
     "execution_count": 19,
     "metadata": {},
     "output_type": "execute_result"
    },
    {
     "name": "stdout",
     "output_type": "stream",
     "text": [
      "Tests Passed\n"
     ]
    }
   ],
   "source": [
    "def normalize(x):\n",
    "    \"\"\"\n",
    "    Normalize a list of sample image data in the range of 0 to 1\n",
    "    : x: List of image data.  The image shape is (32, 32, 3)\n",
    "    : return: Numpy array of normalize data\n",
    "    \"\"\"\n",
    "    # TODO: Implement Function\n",
    "    ##x = x/255\n",
    "    x = (x-np.min(x))/(np.max(x)-np.min(x))\n",
    "    return x\n",
    "\n",
    "\n",
    "\"\"\"\n",
    "DON'T MODIFY ANYTHING IN THIS CELL THAT IS BELOW THIS LINE\n",
    "\"\"\"\n",
    "tests.test_normalize(normalize)"
   ]
  },
  {
   "cell_type": "markdown",
   "metadata": {
    "deletable": true,
    "editable": true
   },
   "source": [
    "### One-hot encode\n",
    "Just like the previous code cell, you'll be implementing a function for preprocessing.  This time, you'll implement the `one_hot_encode` function. The input, `x`, are a list of labels.  Implement the function to return the list of labels as One-Hot encoded Numpy array.  The possible values for labels are 0 to 9. The one-hot encoding function should return the same encoding for each value between each call to `one_hot_encode`.  Make sure to save the map of encodings outside the function.\n",
    "\n",
    "Hint: Don't reinvent the wheel."
   ]
  },
  {
   "cell_type": "code",
   "execution_count": 20,
   "metadata": {
    "collapsed": false,
    "deletable": true,
    "editable": true
   },
   "outputs": [
    {
     "data": {
      "text/plain": [
       "\"\\nDON'T MODIFY ANYTHING IN THIS CELL THAT IS BELOW THIS LINE\\n\""
      ]
     },
     "execution_count": 20,
     "metadata": {},
     "output_type": "execute_result"
    },
    {
     "name": "stdout",
     "output_type": "stream",
     "text": [
      "Tests Passed\n"
     ]
    }
   ],
   "source": [
    "def one_hot_encode(x):\n",
    "    \"\"\"\n",
    "    One hot encode a list of sample labels. Return a one-hot encoded vector for each label.\n",
    "    : x: List of sample Labels\n",
    "    : return: Numpy array of one-hot encoded labels\n",
    "    \"\"\"\n",
    "    # TODO: Implement Function\n",
    "    y = np.zeros(shape=(len(x), 10))\n",
    "    for i, label in enumerate(x):\n",
    "        y[i, label] = 1\n",
    "        \n",
    "    return y\n",
    "\n",
    "\n",
    "\"\"\"\n",
    "DON'T MODIFY ANYTHING IN THIS CELL THAT IS BELOW THIS LINE\n",
    "\"\"\"\n",
    "tests.test_one_hot_encode(one_hot_encode)"
   ]
  },
  {
   "cell_type": "markdown",
   "metadata": {
    "deletable": true,
    "editable": true
   },
   "source": [
    "### Randomize Data\n",
    "As you saw from exploring the data above, the order of the samples are randomized.  It doesn't hurt to randomize it again, but you don't need to for this dataset."
   ]
  },
  {
   "cell_type": "markdown",
   "metadata": {
    "deletable": true,
    "editable": true
   },
   "source": [
    "## Preprocess all the data and save it\n",
    "Running the code cell below will preprocess all the CIFAR-10 data and save it to file. The code below also uses 10% of the training data for validation."
   ]
  },
  {
   "cell_type": "code",
   "execution_count": 21,
   "metadata": {
    "collapsed": false,
    "deletable": true,
    "editable": true
   },
   "outputs": [
    {
     "data": {
      "text/plain": [
       "\"\\nDON'T MODIFY ANYTHING IN THIS CELL\\n\""
      ]
     },
     "execution_count": 21,
     "metadata": {},
     "output_type": "execute_result"
    }
   ],
   "source": [
    "\"\"\"\n",
    "DON'T MODIFY ANYTHING IN THIS CELL\n",
    "\"\"\"\n",
    "# Preprocess Training, Validation, and Testing Data\n",
    "helper.preprocess_and_save_data(cifar10_dataset_folder_path, normalize, one_hot_encode)"
   ]
  },
  {
   "cell_type": "markdown",
   "metadata": {
    "deletable": true,
    "editable": true
   },
   "source": [
    "# Check Point\n",
    "This is your first checkpoint.  If you ever decide to come back to this notebook or have to restart the notebook, you can start from here.  The preprocessed data has been saved to disk."
   ]
  },
  {
   "cell_type": "code",
   "execution_count": 1,
   "metadata": {
    "collapsed": false,
    "deletable": true,
    "editable": true
   },
   "outputs": [
    {
     "data": {
      "text/plain": [
       "\"\\nDON'T MODIFY ANYTHING IN THIS CELL\\n\""
      ]
     },
     "execution_count": 1,
     "metadata": {},
     "output_type": "execute_result"
    }
   ],
   "source": [
    "\"\"\"\n",
    "DON'T MODIFY ANYTHING IN THIS CELL\n",
    "\"\"\"\n",
    "import pickle\n",
    "import problem_unittests as tests\n",
    "import helper\n",
    "\n",
    "# Load the Preprocessed Validation data\n",
    "valid_features, valid_labels = pickle.load(open('preprocess_validation.p', mode='rb'))"
   ]
  },
  {
   "cell_type": "markdown",
   "metadata": {
    "deletable": true,
    "editable": true
   },
   "source": [
    "## Build the network\n",
    "For the neural network, you'll build each layer into a function.  Most of the code you've seen has been outside of functions. To test your code more thoroughly, we require that you put each layer in a function.  This allows us to give you better feedback and test for simple mistakes using our unittests before you submit your project.\n",
    "\n",
    ">**Note:** If you're finding it hard to dedicate enough time for this course each week, we've provided a small shortcut to this part of the project. In the next couple of problems, you'll have the option to use classes from the [TensorFlow Layers](https://www.tensorflow.org/api_docs/python/tf/layers) or [TensorFlow Layers (contrib)](https://www.tensorflow.org/api_guides/python/contrib.layers) packages to build each layer, except the layers you build in the \"Convolutional and Max Pooling Layer\" section.  TF Layers is similar to Keras's and TFLearn's abstraction to layers, so it's easy to pickup.\n",
    "\n",
    ">However, if you would like to get the most out of this course, try to solve all the problems _without_ using anything from the TF Layers packages. You **can** still use classes from other packages that happen to have the same name as ones you find in TF Layers! For example, instead of using the TF Layers version of the `conv2d` class, [tf.layers.conv2d](https://www.tensorflow.org/api_docs/python/tf/layers/conv2d), you would want to use the TF Neural Network version of `conv2d`, [tf.nn.conv2d](https://www.tensorflow.org/api_docs/python/tf/nn/conv2d). \n",
    "\n",
    "Let's begin!\n",
    "\n",
    "### Input\n",
    "The neural network needs to read the image data, one-hot encoded labels, and dropout keep probability. Implement the following functions\n",
    "* Implement `neural_net_image_input`\n",
    " * Return a [TF Placeholder](https://www.tensorflow.org/api_docs/python/tf/placeholder)\n",
    " * Set the shape using `image_shape` with batch size set to `None`.\n",
    " * Name the TensorFlow placeholder \"x\" using the TensorFlow `name` parameter in the [TF Placeholder](https://www.tensorflow.org/api_docs/python/tf/placeholder).\n",
    "* Implement `neural_net_label_input`\n",
    " * Return a [TF Placeholder](https://www.tensorflow.org/api_docs/python/tf/placeholder)\n",
    " * Set the shape using `n_classes` with batch size set to `None`.\n",
    " * Name the TensorFlow placeholder \"y\" using the TensorFlow `name` parameter in the [TF Placeholder](https://www.tensorflow.org/api_docs/python/tf/placeholder).\n",
    "* Implement `neural_net_keep_prob_input`\n",
    " * Return a [TF Placeholder](https://www.tensorflow.org/api_docs/python/tf/placeholder) for dropout keep probability.\n",
    " * Name the TensorFlow placeholder \"keep_prob\" using the TensorFlow `name` parameter in the [TF Placeholder](https://www.tensorflow.org/api_docs/python/tf/placeholder).\n",
    "\n",
    "These names will be used at the end of the project to load your saved model.\n",
    "\n",
    "Note: `None` for shapes in TensorFlow allow for a dynamic size."
   ]
  },
  {
   "cell_type": "code",
   "execution_count": 2,
   "metadata": {
    "collapsed": false,
    "deletable": true,
    "editable": true
   },
   "outputs": [
    {
     "data": {
      "text/plain": [
       "\"\\nDON'T MODIFY ANYTHING IN THIS CELL THAT IS BELOW THIS LINE\\n\""
      ]
     },
     "execution_count": 2,
     "metadata": {},
     "output_type": "execute_result"
    },
    {
     "name": "stdout",
     "output_type": "stream",
     "text": [
      "Image Input Tests Passed.\n",
      "Label Input Tests Passed.\n",
      "Keep Prob Tests Passed.\n"
     ]
    }
   ],
   "source": [
    "import tensorflow as tf\n",
    "\n",
    "def neural_net_image_input(image_shape):\n",
    "    \"\"\"\n",
    "    Return a Tensor for a batch of image input\n",
    "    : image_shape: Shape of the images\n",
    "    : return: Tensor for image input.\n",
    "    \"\"\"\n",
    "    # TODO: Implement Function\n",
    "    return tf.placeholder(tf.float32, shape=(None,*image_shape), name ='x')\n",
    "\n",
    "\n",
    "def neural_net_label_input(n_classes):\n",
    "    \"\"\"\n",
    "    Return a Tensor for a batch of label input\n",
    "    : n_classes: Number of classes\n",
    "    : return: Tensor for label input.\n",
    "    \"\"\"\n",
    "    # TODO: Implement Function\n",
    "    y = tf.placeholder(tf.float32, [None, n_classes], name='y')\n",
    "    return y\n",
    "\n",
    "\n",
    "def neural_net_keep_prob_input():\n",
    "    \"\"\"\n",
    "    Return a Tensor for keep probability\n",
    "    : return: Tensor for keep probability.\n",
    "    \"\"\"\n",
    "    # TODO: Implement Function\n",
    "    keep_prob = tf.placeholder(tf.float32, name = 'keep_prob')\n",
    "    return keep_prob\n",
    "\n",
    "\n",
    "\"\"\"\n",
    "DON'T MODIFY ANYTHING IN THIS CELL THAT IS BELOW THIS LINE\n",
    "\"\"\"\n",
    "tf.reset_default_graph()\n",
    "tests.test_nn_image_inputs(neural_net_image_input)\n",
    "tests.test_nn_label_inputs(neural_net_label_input)\n",
    "tests.test_nn_keep_prob_inputs(neural_net_keep_prob_input)"
   ]
  },
  {
   "cell_type": "markdown",
   "metadata": {
    "deletable": true,
    "editable": true
   },
   "source": [
    "### Convolution and Max Pooling Layer\n",
    "Convolution layers have a lot of success with images. For this code cell, you should implement the function `conv2d_maxpool` to apply convolution then max pooling:\n",
    "* Create the weight and bias using `conv_ksize`, `conv_num_outputs` and the shape of `x_tensor`.\n",
    "* Apply a convolution to `x_tensor` using weight and `conv_strides`.\n",
    " * We recommend you use same padding, but you're welcome to use any padding.\n",
    "* Add bias\n",
    "* Add a nonlinear activation to the convolution.\n",
    "* Apply Max Pooling using `pool_ksize` and `pool_strides`.\n",
    " * We recommend you use same padding, but you're welcome to use any padding.\n",
    "\n",
    "**Note:** You **can't** use [TensorFlow Layers](https://www.tensorflow.org/api_docs/python/tf/layers) or [TensorFlow Layers (contrib)](https://www.tensorflow.org/api_guides/python/contrib.layers) for **this** layer, but you can still use TensorFlow's [Neural Network](https://www.tensorflow.org/api_docs/python/tf/nn) package. You may still use the shortcut option for all the **other** layers."
   ]
  },
  {
   "cell_type": "code",
   "execution_count": 3,
   "metadata": {
    "collapsed": false,
    "deletable": true,
    "editable": true
   },
   "outputs": [
    {
     "data": {
      "text/plain": [
       "\"\\nDON'T MODIFY ANYTHING IN THIS CELL THAT IS BELOW THIS LINE\\n\""
      ]
     },
     "execution_count": 3,
     "metadata": {},
     "output_type": "execute_result"
    },
    {
     "name": "stdout",
     "output_type": "stream",
     "text": [
      "Tests Passed\n"
     ]
    }
   ],
   "source": [
    "def conv2d_maxpool(x_tensor, conv_num_outputs, conv_ksize, conv_strides, pool_ksize, pool_strides):\n",
    "    \"\"\"\n",
    "    Apply convolution then max pooling to x_tensor\n",
    "    :param x_tensor: TensorFlow Tensor\n",
    "    :param conv_num_outputs: Number of outputs for the convolutional layer\n",
    "    :param conv_ksize: kernal size 2-D Tuple for the convolutional layer\n",
    "    :param conv_strides: Stride 2-D Tuple for convolution\n",
    "    :param pool_ksize: kernal size 2-D Tuple for pool\n",
    "    :param pool_strides: Stride 2-D Tuple for pool\n",
    "    : return: A tensor that represents convolution and max pooling of x_tensor\n",
    "    \"\"\"\n",
    "    # create the weight and bias\n",
    "    # shape of filter [filter_height, filter_width, in_channels, out_channels]\n",
    "    weight = tf.Variable(tf.truncated_normal([*conv_ksize, x_tensor.get_shape().as_list()[-1], \n",
    "                                              conv_num_outputs],stddev=0.05))\n",
    "    bias = tf.Variable(tf.zeros(conv_num_outputs))\n",
    "    \n",
    "    # apply conv to x_tensor\n",
    "    conv = tf.nn.conv2d(x_tensor, weight, strides=[1, *conv_strides, 1], padding='SAME')\n",
    "    # add bias\n",
    "    conv = tf.nn.bias_add(conv, bias)\n",
    "    # add activation function ReLU\n",
    "    conv = tf.nn.relu(conv)\n",
    "    # apply max pooling\n",
    "    conv = tf.nn.max_pool(conv, ksize=[1,*pool_ksize,1],\n",
    "                          strides=[1,*pool_strides,1],padding='SAME')\n",
    "    return conv\n",
    "\n",
    "\n",
    "\"\"\"\n",
    "DON'T MODIFY ANYTHING IN THIS CELL THAT IS BELOW THIS LINE\n",
    "\"\"\"\n",
    "tests.test_con_pool(conv2d_maxpool)"
   ]
  },
  {
   "cell_type": "markdown",
   "metadata": {
    "deletable": true,
    "editable": true
   },
   "source": [
    "### Flatten Layer\n",
    "Implement the `flatten` function to change the dimension of `x_tensor` from a 4-D tensor to a 2-D tensor.  The output should be the shape (*Batch Size*, *Flattened Image Size*). Shortcut option: you can use classes from the [TensorFlow Layers](https://www.tensorflow.org/api_docs/python/tf/layers) or [TensorFlow Layers (contrib)](https://www.tensorflow.org/api_guides/python/contrib.layers) packages for this layer. For more of a challenge, only use other TensorFlow packages."
   ]
  },
  {
   "cell_type": "code",
   "execution_count": 4,
   "metadata": {
    "collapsed": false,
    "deletable": true,
    "editable": true
   },
   "outputs": [
    {
     "data": {
      "text/plain": [
       "\"\\nDON'T MODIFY ANYTHING IN THIS CELL THAT IS BELOW THIS LINE\\n\""
      ]
     },
     "execution_count": 4,
     "metadata": {},
     "output_type": "execute_result"
    },
    {
     "name": "stdout",
     "output_type": "stream",
     "text": [
      "Tests Passed\n"
     ]
    }
   ],
   "source": [
    "def flatten(x_tensor):\n",
    "    \"\"\"\n",
    "    Flatten x_tensor to (Batch Size, Flattened Image Size)\n",
    "    : x_tensor: A tensor of size (Batch Size, ...), where ... are the image dimensions.\n",
    "    : return: A tensor of size (Batch Size, Flattened Image Size).\n",
    "    \"\"\"\n",
    "    # TODO: Implement Function\n",
    "    \n",
    "    return tf.contrib.layers.flatten(x_tensor)\n",
    "\n",
    "\n",
    "\"\"\"\n",
    "DON'T MODIFY ANYTHING IN THIS CELL THAT IS BELOW THIS LINE\n",
    "\"\"\"\n",
    "tests.test_flatten(flatten)"
   ]
  },
  {
   "cell_type": "markdown",
   "metadata": {
    "deletable": true,
    "editable": true
   },
   "source": [
    "### Fully-Connected Layer\n",
    "Implement the `fully_conn` function to apply a fully connected layer to `x_tensor` with the shape (*Batch Size*, *num_outputs*). Shortcut option: you can use classes from the [TensorFlow Layers](https://www.tensorflow.org/api_docs/python/tf/layers) or [TensorFlow Layers (contrib)](https://www.tensorflow.org/api_guides/python/contrib.layers) packages for this layer. For more of a challenge, only use other TensorFlow packages."
   ]
  },
  {
   "cell_type": "code",
   "execution_count": 5,
   "metadata": {
    "collapsed": false,
    "deletable": true,
    "editable": true
   },
   "outputs": [
    {
     "data": {
      "text/plain": [
       "\"\\nDON'T MODIFY ANYTHING IN THIS CELL THAT IS BELOW THIS LINE\\n\""
      ]
     },
     "execution_count": 5,
     "metadata": {},
     "output_type": "execute_result"
    },
    {
     "name": "stdout",
     "output_type": "stream",
     "text": [
      "Tests Passed\n"
     ]
    }
   ],
   "source": [
    "def fully_conn(x_tensor, num_outputs):\n",
    "    \"\"\"\n",
    "    Apply a fully connected layer to x_tensor using weight and bias\n",
    "    : x_tensor: A 2-D tensor where the first dimension is batch size.\n",
    "    : num_outputs: The number of output that the new tensor should be.\n",
    "    : return: A 2-D tensor where the second dimension is num_outputs.\n",
    "    \"\"\"\n",
    "    # TODO: Implement Function \n",
    "    # creates a fully connected layer with a nonlinear activation.\n",
    "    #fc = tf.contrib.layers.fully_connected(x_tensor, num_outputs)\n",
    "    #fc = tf.nn.relu(fc)\n",
    "    fc = tf.contrib.layers.fully_connected(x_tensor, num_outputs, activation_fn=tf.nn.relu)\n",
    "    return fc\n",
    "\n",
    "\"\"\"\n",
    "DON'T MODIFY ANYTHING IN THIS CELL THAT IS BELOW THIS LINE\n",
    "\"\"\"\n",
    "tests.test_fully_conn(fully_conn)"
   ]
  },
  {
   "cell_type": "markdown",
   "metadata": {
    "deletable": true,
    "editable": true
   },
   "source": [
    "### Output Layer\n",
    "Implement the `output` function to apply a fully connected layer to `x_tensor` with the shape (*Batch Size*, *num_outputs*). Shortcut option: you can use classes from the [TensorFlow Layers](https://www.tensorflow.org/api_docs/python/tf/layers) or [TensorFlow Layers (contrib)](https://www.tensorflow.org/api_guides/python/contrib.layers) packages for this layer. For more of a challenge, only use other TensorFlow packages.\n",
    "\n",
    "**Note:** Activation, softmax, or cross entropy should **not** be applied to this."
   ]
  },
  {
   "cell_type": "code",
   "execution_count": 6,
   "metadata": {
    "collapsed": false,
    "deletable": true,
    "editable": true
   },
   "outputs": [
    {
     "data": {
      "text/plain": [
       "\"\\nDON'T MODIFY ANYTHING IN THIS CELL THAT IS BELOW THIS LINE\\n\""
      ]
     },
     "execution_count": 6,
     "metadata": {},
     "output_type": "execute_result"
    },
    {
     "name": "stdout",
     "output_type": "stream",
     "text": [
      "Tests Passed\n"
     ]
    }
   ],
   "source": [
    "def output(x_tensor, num_outputs):\n",
    "    \"\"\"\n",
    "    Apply a output layer to x_tensor using weight and bias\n",
    "    : x_tensor: A 2-D tensor where the first dimension is batch size.\n",
    "    : num_outputs: The number of output that the new tensor should be.\n",
    "    : return: A 2-D tensor where the second dimension is num_outputs.\n",
    "    \"\"\"\n",
    "    # TODO: Implement Function\n",
    "    return tf.contrib.layers.fully_connected(x_tensor, num_outputs, activation_fn=None)\n",
    "\n",
    "\n",
    "\"\"\"\n",
    "DON'T MODIFY ANYTHING IN THIS CELL THAT IS BELOW THIS LINE\n",
    "\"\"\"\n",
    "tests.test_output(output)"
   ]
  },
  {
   "cell_type": "markdown",
   "metadata": {
    "deletable": true,
    "editable": true
   },
   "source": [
    "### Create Convolutional Model\n",
    "Implement the function `conv_net` to create a convolutional neural network model. The function takes in a batch of images, `x`, and outputs logits.  Use the layers you created above to create this model:\n",
    "\n",
    "* Apply 1, 2, or 3 Convolution and Max Pool layers\n",
    "* Apply a Flatten Layer\n",
    "* Apply 1, 2, or 3 Fully Connected Layers\n",
    "* Apply an Output Layer\n",
    "* Return the output\n",
    "* Apply [TensorFlow's Dropout](https://www.tensorflow.org/api_docs/python/tf/nn/dropout) to one or more layers in the model using `keep_prob`. "
   ]
  },
  {
   "cell_type": "code",
   "execution_count": 7,
   "metadata": {
    "collapsed": false,
    "deletable": true,
    "editable": true
   },
   "outputs": [
    {
     "data": {
      "text/plain": [
       "\"\\nDON'T MODIFY ANYTHING IN THIS CELL THAT IS BELOW THIS LINE\\n\""
      ]
     },
     "execution_count": 7,
     "metadata": {},
     "output_type": "execute_result"
    },
    {
     "name": "stdout",
     "output_type": "stream",
     "text": [
      "Neural Network Built!\n"
     ]
    }
   ],
   "source": [
    "def conv_net(x, keep_prob):\n",
    "    \"\"\"\n",
    "    Create a convolutional neural network model\n",
    "    : x: Placeholder tensor that holds image data.\n",
    "    : keep_prob: Placeholder tensor that hold dropout keep probability.\n",
    "    : return: Tensor that represents logits\n",
    "    \"\"\"\n",
    "    # TODO: Apply 1, 2, or 3 Convolution and Max Pool layers\n",
    "    #    Play around with different number of outputs, kernel size and stride\n",
    "    # Function Definition from Above:\n",
    "    #    conv2d_maxpool(x_tensor, conv_num_outputs, conv_ksize, conv_strides, pool_ksize, pool_strides)\n",
    "    layer = conv2d_maxpool(x,16,(3,3),(1,1),(2,2),(2,2))\n",
    "    layer = conv2d_maxpool(layer,32,(3,3),(1,1),(2,2),(2,2))\n",
    "    # TODO: Apply a Flatten Layer\n",
    "    # Function Definition from Above:\n",
    "    #   flatten(x_tensor)\n",
    "    layer = flatten(layer)\n",
    "\n",
    "    # TODO: Apply 1, 2, or 3 Fully Connected Layers\n",
    "    #    Play around with different number of outputs\n",
    "    # Function Definition from Above:\n",
    "    #   fully_conn(x_tensor, num_outputs)\n",
    "    layer = fully_conn(layer,120)\n",
    "    layer = fully_conn(layer,84)\n",
    "    \n",
    "    # TODO: Apply an Output Layer\n",
    "    #    Set this to the number of classes\n",
    "    # Function Definition from Above:\n",
    "    #   output(x_tensor, num_outputs)\n",
    "    layer = tf.nn.dropout(layer,keep_prob)\n",
    "    layer = output(layer,10)\n",
    "    \n",
    "    # TODO: return output\n",
    "    return layer\n",
    "\n",
    "\n",
    "\"\"\"\n",
    "DON'T MODIFY ANYTHING IN THIS CELL THAT IS BELOW THIS LINE\n",
    "\"\"\"\n",
    "\n",
    "##############################\n",
    "## Build the Neural Network ##\n",
    "##############################\n",
    "\n",
    "# Remove previous weights, bias, inputs, etc..\n",
    "tf.reset_default_graph()\n",
    "\n",
    "# Inputs\n",
    "x = neural_net_image_input((32, 32, 3))\n",
    "y = neural_net_label_input(10)\n",
    "keep_prob = neural_net_keep_prob_input()\n",
    "\n",
    "# Model\n",
    "logits = conv_net(x, keep_prob)\n",
    "\n",
    "# Name logits Tensor, so that is can be loaded from disk after training\n",
    "logits = tf.identity(logits, name='logits')\n",
    "\n",
    "# Loss and Optimizer\n",
    "cost = tf.reduce_mean(tf.nn.softmax_cross_entropy_with_logits(logits=logits, labels=y))\n",
    "optimizer = tf.train.AdamOptimizer().minimize(cost)\n",
    "\n",
    "# Accuracy\n",
    "correct_pred = tf.equal(tf.argmax(logits, 1), tf.argmax(y, 1))\n",
    "accuracy = tf.reduce_mean(tf.cast(correct_pred, tf.float32), name='accuracy')\n",
    "\n",
    "tests.test_conv_net(conv_net)"
   ]
  },
  {
   "cell_type": "markdown",
   "metadata": {
    "deletable": true,
    "editable": true
   },
   "source": [
    "## Train the Neural Network\n",
    "### Single Optimization\n",
    "Implement the function `train_neural_network` to do a single optimization.  The optimization should use `optimizer` to optimize in `session` with a `feed_dict` of the following:\n",
    "* `x` for image input\n",
    "* `y` for labels\n",
    "* `keep_prob` for keep probability for dropout\n",
    "\n",
    "This function will be called for each batch, so `tf.global_variables_initializer()` has already been called.\n",
    "\n",
    "Note: Nothing needs to be returned. This function is only optimizing the neural network."
   ]
  },
  {
   "cell_type": "code",
   "execution_count": 8,
   "metadata": {
    "collapsed": false,
    "deletable": true,
    "editable": true
   },
   "outputs": [
    {
     "data": {
      "text/plain": [
       "\"\\nDON'T MODIFY ANYTHING IN THIS CELL THAT IS BELOW THIS LINE\\n\""
      ]
     },
     "execution_count": 8,
     "metadata": {},
     "output_type": "execute_result"
    },
    {
     "name": "stdout",
     "output_type": "stream",
     "text": [
      "Tests Passed\n"
     ]
    }
   ],
   "source": [
    "def train_neural_network(session, optimizer, keep_probability, feature_batch, label_batch):\n",
    "    \"\"\"\n",
    "    Optimize the session on a batch of images and labels\n",
    "    : session: Current TensorFlow session\n",
    "    : optimizer: TensorFlow optimizer function\n",
    "    : keep_probability: keep probability\n",
    "    : feature_batch: Batch of Numpy image data\n",
    "    : label_batch: Batch of Numpy label data\n",
    "    \"\"\"\n",
    "    # TODO: Implement Function\n",
    "    session.run(optimizer, feed_dict={x: feature_batch, y: label_batch, \n",
    "                                      keep_prob:keep_probability})\n",
    "   \n",
    "\"\"\"\n",
    "DON'T MODIFY ANYTHING IN THIS CELL THAT IS BELOW THIS LINE\n",
    "\"\"\"\n",
    "tests.test_train_nn(train_neural_network)"
   ]
  },
  {
   "cell_type": "markdown",
   "metadata": {
    "deletable": true,
    "editable": true
   },
   "source": [
    "### Show Stats\n",
    "Implement the function `print_stats` to print loss and validation accuracy.  Use the global variables `valid_features` and `valid_labels` to calculate validation accuracy.  Use a keep probability of `1.0` to calculate the loss and validation accuracy."
   ]
  },
  {
   "cell_type": "code",
   "execution_count": 13,
   "metadata": {
    "collapsed": false,
    "deletable": true,
    "editable": true
   },
   "outputs": [],
   "source": [
    "def print_stats(session, feature_batch, label_batch, cost, accuracy):\n",
    "    \"\"\"\n",
    "    Print information about loss and validation accuracy\n",
    "    : session: Current TensorFlow session\n",
    "    : feature_batch: Batch of Numpy image data\n",
    "    : label_batch: Batch of Numpy label data\n",
    "    : cost: TensorFlow cost function\n",
    "    : accuracy: TensorFlow accuracy function\n",
    "    \"\"\"\n",
    "    # TODO: Implement Function\n",
    "    loss = session.run(cost, feed_dict={x: feature_batch, y: label_batch,\n",
    "                                       keep_prob: 1.0})\n",
    "    valid_acc = session.run(accuracy, feed_dict={x: valid_features, y: valid_labels,\n",
    "                                                     keep_prob: 1.0})\n",
    "    print(\"loss=\", \"{:.9f}\".format(loss),\n",
    "          \"valid_acc=\", \"{:.9f}\".format(valid_acc))"
   ]
  },
  {
   "cell_type": "markdown",
   "metadata": {
    "deletable": true,
    "editable": true
   },
   "source": [
    "### Hyperparameters\n",
    "Tune the following parameters:\n",
    "* Set `epochs` to the number of iterations until the network stops learning or start overfitting\n",
    "* Set `batch_size` to the highest number that your machine has memory for.  Most people set them to common sizes of memory:\n",
    " * 64\n",
    " * 128\n",
    " * 256\n",
    " * ...\n",
    "* Set `keep_probability` to the probability of keeping a node using dropout"
   ]
  },
  {
   "cell_type": "code",
   "execution_count": 11,
   "metadata": {
    "collapsed": true,
    "deletable": true,
    "editable": true
   },
   "outputs": [],
   "source": [
    "# TODO: Tune Pcarameters\n",
    "epochs = 40\n",
    "batch_size = 64\n",
    "keep_probability = 0.5"
   ]
  },
  {
   "cell_type": "markdown",
   "metadata": {
    "deletable": true,
    "editable": true
   },
   "source": [
    "### Train on a Single CIFAR-10 Batch\n",
    "Instead of training the neural network on all the CIFAR-10 batches of data, let's use a single batch. This should save time while you iterate on the model to get a better accuracy.  Once the final validation accuracy is 50% or greater, run the model on all the data in the next section."
   ]
  },
  {
   "cell_type": "code",
   "execution_count": 14,
   "metadata": {
    "collapsed": false,
    "deletable": true,
    "editable": true,
    "scrolled": true
   },
   "outputs": [
    {
     "data": {
      "text/plain": [
       "\"\\nDON'T MODIFY ANYTHING IN THIS CELL\\n\""
      ]
     },
     "execution_count": 14,
     "metadata": {},
     "output_type": "execute_result"
    },
    {
     "name": "stdout",
     "output_type": "stream",
     "text": [
      "Checking the Training on a Single Batch...\n",
      "Epoch  1, CIFAR-10 Batch 1:  loss= 2.209321499 valid_acc= 0.244799986\n",
      "Epoch  2, CIFAR-10 Batch 1:  loss= 1.961451173 valid_acc= 0.353599966\n",
      "Epoch  3, CIFAR-10 Batch 1:  loss= 1.784676552 valid_acc= 0.414199978\n",
      "Epoch  4, CIFAR-10 Batch 1:  loss= 1.798496008 valid_acc= 0.412799984\n",
      "Epoch  5, CIFAR-10 Batch 1:  loss= 1.681548834 valid_acc= 0.459999979\n",
      "Epoch  6, CIFAR-10 Batch 1:  loss= 1.552272320 valid_acc= 0.499599963\n",
      "Epoch  7, CIFAR-10 Batch 1:  loss= 1.519737482 valid_acc= 0.498199970\n",
      "Epoch  8, CIFAR-10 Batch 1:  loss= 1.418291569 valid_acc= 0.529199958\n",
      "Epoch  9, CIFAR-10 Batch 1:  loss= 1.361130118 valid_acc= 0.523599923\n",
      "Epoch 10, CIFAR-10 Batch 1:  loss= 1.321271420 valid_acc= 0.532399952\n",
      "Epoch 11, CIFAR-10 Batch 1:  loss= 1.184503555 valid_acc= 0.551399946\n",
      "Epoch 12, CIFAR-10 Batch 1:  loss= 1.054895639 valid_acc= 0.549999952\n",
      "Epoch 13, CIFAR-10 Batch 1:  loss= 1.035791159 valid_acc= 0.544399977\n",
      "Epoch 14, CIFAR-10 Batch 1:  loss= 0.956486821 valid_acc= 0.548399925\n",
      "Epoch 15, CIFAR-10 Batch 1:  loss= 0.867849827 valid_acc= 0.554399967\n",
      "Epoch 16, CIFAR-10 Batch 1:  loss= 0.812427700 valid_acc= 0.564399958\n",
      "Epoch 17, CIFAR-10 Batch 1:  loss= 0.815888166 valid_acc= 0.553999901\n",
      "Epoch 18, CIFAR-10 Batch 1:  loss= 0.758897185 valid_acc= 0.561999917\n",
      "Epoch 19, CIFAR-10 Batch 1:  loss= 0.710520864 valid_acc= 0.560999870\n",
      "Epoch 20, CIFAR-10 Batch 1:  loss= 0.690580726 valid_acc= 0.551999986\n",
      "Epoch 21, CIFAR-10 Batch 1:  loss= 0.669895828 valid_acc= 0.540799975\n",
      "Epoch 22, CIFAR-10 Batch 1:  loss= 0.632360816 valid_acc= 0.559399962\n",
      "Epoch 23, CIFAR-10 Batch 1:  loss= 0.564328074 valid_acc= 0.561399937\n",
      "Epoch 24, CIFAR-10 Batch 1:  loss= 0.518001080 valid_acc= 0.572199941\n",
      "Epoch 25, CIFAR-10 Batch 1:  loss= 0.469491422 valid_acc= 0.571799934\n",
      "Epoch 26, CIFAR-10 Batch 1:  loss= 0.366969079 valid_acc= 0.567399919\n",
      "Epoch 27, CIFAR-10 Batch 1:  loss= 0.366969496 valid_acc= 0.565799952\n",
      "Epoch 28, CIFAR-10 Batch 1:  loss= 0.303783238 valid_acc= 0.564199924\n",
      "Epoch 29, CIFAR-10 Batch 1:  loss= 0.299291342 valid_acc= 0.567799926\n",
      "Epoch 30, CIFAR-10 Batch 1:  loss= 0.273575932 valid_acc= 0.561399937\n",
      "Epoch 31, CIFAR-10 Batch 1:  loss= 0.240534663 valid_acc= 0.556399941\n",
      "Epoch 32, CIFAR-10 Batch 1:  loss= 0.221878096 valid_acc= 0.559999943\n",
      "Epoch 33, CIFAR-10 Batch 1:  loss= 0.200603157 valid_acc= 0.567199945\n",
      "Epoch 34, CIFAR-10 Batch 1:  loss= 0.272744685 valid_acc= 0.560999930\n",
      "Epoch 35, CIFAR-10 Batch 1:  loss= 0.232476532 valid_acc= 0.554599941\n",
      "Epoch 36, CIFAR-10 Batch 1:  loss= 0.207780510 valid_acc= 0.556799948\n",
      "Epoch 37, CIFAR-10 Batch 1:  loss= 0.177876443 valid_acc= 0.557999909\n",
      "Epoch 38, CIFAR-10 Batch 1:  loss= 0.099437214 valid_acc= 0.560599923\n",
      "Epoch 39, CIFAR-10 Batch 1:  loss= 0.110613160 valid_acc= 0.555999935\n",
      "Epoch 40, CIFAR-10 Batch 1:  loss= 0.098059170 valid_acc= 0.561399937\n"
     ]
    }
   ],
   "source": [
    "\"\"\"\n",
    "DON'T MODIFY ANYTHING IN THIS CELL\n",
    "\"\"\"\n",
    "print('Checking the Training on a Single Batch...')\n",
    "with tf.Session() as sess:\n",
    "    # Initializing the variables\n",
    "    sess.run(tf.global_variables_initializer())\n",
    "    \n",
    "    # Training cycle\n",
    "    for epoch in range(epochs):\n",
    "        batch_i = 1\n",
    "        for batch_features, batch_labels in helper.load_preprocess_training_batch(batch_i, batch_size):\n",
    "            train_neural_network(sess, optimizer, keep_probability, batch_features, batch_labels)\n",
    "        print('Epoch {:>2}, CIFAR-10 Batch {}:  '.format(epoch + 1, batch_i), end='')\n",
    "        print_stats(sess, batch_features, batch_labels, cost, accuracy)"
   ]
  },
  {
   "cell_type": "markdown",
   "metadata": {
    "deletable": true,
    "editable": true
   },
   "source": [
    "### Fully Train the Model\n",
    "Now that you got a good accuracy with a single CIFAR-10 batch, try it with all five batches."
   ]
  },
  {
   "cell_type": "code",
   "execution_count": 15,
   "metadata": {
    "collapsed": false,
    "deletable": true,
    "editable": true,
    "scrolled": true
   },
   "outputs": [
    {
     "data": {
      "text/plain": [
       "\"\\nDON'T MODIFY ANYTHING IN THIS CELL\\n\""
      ]
     },
     "execution_count": 15,
     "metadata": {},
     "output_type": "execute_result"
    },
    {
     "name": "stdout",
     "output_type": "stream",
     "text": [
      "Training...\n",
      "Epoch  1, CIFAR-10 Batch 1:  loss= 2.163882494 valid_acc= 0.261000007\n",
      "Epoch  1, CIFAR-10 Batch 2:  loss= 1.878402710 valid_acc= 0.384799957\n",
      "Epoch  1, CIFAR-10 Batch 3:  loss= 1.446056008 valid_acc= 0.412999988\n",
      "Epoch  1, CIFAR-10 Batch 4:  loss= 1.568363428 valid_acc= 0.433800012\n",
      "Epoch  1, CIFAR-10 Batch 5:  loss= 1.539062619 valid_acc= 0.469999969\n",
      "Epoch  2, CIFAR-10 Batch 1:  loss= 1.758949041 valid_acc= 0.474199921\n",
      "Epoch  2, CIFAR-10 Batch 2:  loss= 1.422970295 valid_acc= 0.499599993\n",
      "Epoch  2, CIFAR-10 Batch 3:  loss= 1.161207676 valid_acc= 0.493999958\n",
      "Epoch  2, CIFAR-10 Batch 4:  loss= 1.290970087 valid_acc= 0.529599905\n",
      "Epoch  2, CIFAR-10 Batch 5:  loss= 1.283442974 valid_acc= 0.533999920\n",
      "Epoch  3, CIFAR-10 Batch 1:  loss= 1.527392268 valid_acc= 0.549199939\n",
      "Epoch  3, CIFAR-10 Batch 2:  loss= 1.203448057 valid_acc= 0.552799940\n",
      "Epoch  3, CIFAR-10 Batch 3:  loss= 0.962820947 valid_acc= 0.544399917\n",
      "Epoch  3, CIFAR-10 Batch 4:  loss= 1.171328187 valid_acc= 0.572599947\n",
      "Epoch  3, CIFAR-10 Batch 5:  loss= 1.111756086 valid_acc= 0.572599888\n",
      "Epoch  4, CIFAR-10 Batch 1:  loss= 1.363670111 valid_acc= 0.583599925\n",
      "Epoch  4, CIFAR-10 Batch 2:  loss= 0.988647461 valid_acc= 0.578599930\n",
      "Epoch  4, CIFAR-10 Batch 3:  loss= 0.829452336 valid_acc= 0.580599904\n",
      "Epoch  4, CIFAR-10 Batch 4:  loss= 1.103139520 valid_acc= 0.598799944\n",
      "Epoch  4, CIFAR-10 Batch 5:  loss= 0.887797534 valid_acc= 0.604199886\n",
      "Epoch  5, CIFAR-10 Batch 1:  loss= 1.260662079 valid_acc= 0.591399908\n",
      "Epoch  5, CIFAR-10 Batch 2:  loss= 0.849082053 valid_acc= 0.610199928\n",
      "Epoch  5, CIFAR-10 Batch 3:  loss= 0.760511994 valid_acc= 0.609199941\n",
      "Epoch  5, CIFAR-10 Batch 4:  loss= 0.972445488 valid_acc= 0.625999868\n",
      "Epoch  5, CIFAR-10 Batch 5:  loss= 0.683913112 valid_acc= 0.622399867\n",
      "Epoch  6, CIFAR-10 Batch 1:  loss= 1.150088429 valid_acc= 0.621799886\n",
      "Epoch  6, CIFAR-10 Batch 2:  loss= 0.830040574 valid_acc= 0.630999923\n",
      "Epoch  6, CIFAR-10 Batch 3:  loss= 0.674576104 valid_acc= 0.631399870\n",
      "Epoch  6, CIFAR-10 Batch 4:  loss= 0.865805626 valid_acc= 0.634399891\n",
      "Epoch  6, CIFAR-10 Batch 5:  loss= 0.616255760 valid_acc= 0.639399886\n",
      "Epoch  7, CIFAR-10 Batch 1:  loss= 0.985452175 valid_acc= 0.640999913\n",
      "Epoch  7, CIFAR-10 Batch 2:  loss= 0.800837457 valid_acc= 0.635199904\n",
      "Epoch  7, CIFAR-10 Batch 3:  loss= 0.610272706 valid_acc= 0.641199887\n",
      "Epoch  7, CIFAR-10 Batch 4:  loss= 0.730035245 valid_acc= 0.634599864\n",
      "Epoch  7, CIFAR-10 Batch 5:  loss= 0.532030046 valid_acc= 0.641199887\n",
      "Epoch  8, CIFAR-10 Batch 1:  loss= 0.943055630 valid_acc= 0.639199853\n",
      "Epoch  8, CIFAR-10 Batch 2:  loss= 0.731411874 valid_acc= 0.636999965\n",
      "Epoch  8, CIFAR-10 Batch 3:  loss= 0.555514157 valid_acc= 0.644599915\n",
      "Epoch  8, CIFAR-10 Batch 4:  loss= 0.719236612 valid_acc= 0.646599889\n",
      "Epoch  8, CIFAR-10 Batch 5:  loss= 0.514577270 valid_acc= 0.646999896\n",
      "Epoch  9, CIFAR-10 Batch 1:  loss= 0.808025241 valid_acc= 0.639799893\n",
      "Epoch  9, CIFAR-10 Batch 2:  loss= 0.620896518 valid_acc= 0.636599898\n",
      "Epoch  9, CIFAR-10 Batch 3:  loss= 0.515672803 valid_acc= 0.659799874\n",
      "Epoch  9, CIFAR-10 Batch 4:  loss= 0.668162227 valid_acc= 0.650799870\n",
      "Epoch  9, CIFAR-10 Batch 5:  loss= 0.451217055 valid_acc= 0.653199852\n",
      "Epoch 10, CIFAR-10 Batch 1:  loss= 0.791279852 valid_acc= 0.646399856\n",
      "Epoch 10, CIFAR-10 Batch 2:  loss= 0.602400601 valid_acc= 0.646799862\n",
      "Epoch 10, CIFAR-10 Batch 3:  loss= 0.380233020 valid_acc= 0.655199885\n",
      "Epoch 10, CIFAR-10 Batch 4:  loss= 0.614895999 valid_acc= 0.656199872\n",
      "Epoch 10, CIFAR-10 Batch 5:  loss= 0.422683895 valid_acc= 0.654799879\n",
      "Epoch 11, CIFAR-10 Batch 1:  loss= 0.706195712 valid_acc= 0.649399877\n",
      "Epoch 11, CIFAR-10 Batch 2:  loss= 0.508747458 valid_acc= 0.647799850\n",
      "Epoch 11, CIFAR-10 Batch 3:  loss= 0.355712593 valid_acc= 0.652399898\n",
      "Epoch 11, CIFAR-10 Batch 4:  loss= 0.522053063 valid_acc= 0.662999868\n",
      "Epoch 11, CIFAR-10 Batch 5:  loss= 0.406858653 valid_acc= 0.660399914\n",
      "Epoch 12, CIFAR-10 Batch 1:  loss= 0.735055327 valid_acc= 0.654999852\n",
      "Epoch 12, CIFAR-10 Batch 2:  loss= 0.463613421 valid_acc= 0.653199852\n",
      "Epoch 12, CIFAR-10 Batch 3:  loss= 0.278194815 valid_acc= 0.658599913\n",
      "Epoch 12, CIFAR-10 Batch 4:  loss= 0.545852065 valid_acc= 0.657199860\n",
      "Epoch 12, CIFAR-10 Batch 5:  loss= 0.335395813 valid_acc= 0.665399909\n",
      "Epoch 13, CIFAR-10 Batch 1:  loss= 0.635648966 valid_acc= 0.655399919\n",
      "Epoch 13, CIFAR-10 Batch 2:  loss= 0.387092948 valid_acc= 0.649399877\n",
      "Epoch 13, CIFAR-10 Batch 3:  loss= 0.268771499 valid_acc= 0.654999971\n",
      "Epoch 13, CIFAR-10 Batch 4:  loss= 0.520574570 valid_acc= 0.660999894\n",
      "Epoch 13, CIFAR-10 Batch 5:  loss= 0.365289629 valid_acc= 0.660999894\n",
      "Epoch 14, CIFAR-10 Batch 1:  loss= 0.660533071 valid_acc= 0.652999878\n",
      "Epoch 14, CIFAR-10 Batch 2:  loss= 0.361110032 valid_acc= 0.651999950\n",
      "Epoch 14, CIFAR-10 Batch 3:  loss= 0.235032395 valid_acc= 0.658999801\n",
      "Epoch 14, CIFAR-10 Batch 4:  loss= 0.480853796 valid_acc= 0.662399888\n",
      "Epoch 14, CIFAR-10 Batch 5:  loss= 0.375171810 valid_acc= 0.663599849\n",
      "Epoch 15, CIFAR-10 Batch 1:  loss= 0.564328790 valid_acc= 0.651399970\n",
      "Epoch 15, CIFAR-10 Batch 2:  loss= 0.341457099 valid_acc= 0.646799922\n",
      "Epoch 15, CIFAR-10 Batch 3:  loss= 0.264950335 valid_acc= 0.649999857\n",
      "Epoch 15, CIFAR-10 Batch 4:  loss= 0.370677710 valid_acc= 0.659799874\n",
      "Epoch 15, CIFAR-10 Batch 5:  loss= 0.295327336 valid_acc= 0.658399880\n",
      "Epoch 16, CIFAR-10 Batch 1:  loss= 0.504840791 valid_acc= 0.657199919\n",
      "Epoch 16, CIFAR-10 Batch 2:  loss= 0.328823358 valid_acc= 0.628199875\n",
      "Epoch 16, CIFAR-10 Batch 3:  loss= 0.224634588 valid_acc= 0.650199890\n",
      "Epoch 16, CIFAR-10 Batch 4:  loss= 0.344231874 valid_acc= 0.655199885\n",
      "Epoch 16, CIFAR-10 Batch 5:  loss= 0.291358858 valid_acc= 0.651999831\n",
      "Epoch 17, CIFAR-10 Batch 1:  loss= 0.529400229 valid_acc= 0.657199860\n",
      "Epoch 17, CIFAR-10 Batch 2:  loss= 0.303511918 valid_acc= 0.646999896\n",
      "Epoch 17, CIFAR-10 Batch 3:  loss= 0.270049721 valid_acc= 0.635599911\n",
      "Epoch 17, CIFAR-10 Batch 4:  loss= 0.388985962 valid_acc= 0.647599936\n",
      "Epoch 17, CIFAR-10 Batch 5:  loss= 0.259098530 valid_acc= 0.643599927\n",
      "Epoch 18, CIFAR-10 Batch 1:  loss= 0.443358779 valid_acc= 0.652799904\n",
      "Epoch 18, CIFAR-10 Batch 2:  loss= 0.252748072 valid_acc= 0.629399896\n",
      "Epoch 18, CIFAR-10 Batch 3:  loss= 0.233951598 valid_acc= 0.645199895\n",
      "Epoch 18, CIFAR-10 Batch 4:  loss= 0.334279805 valid_acc= 0.654599905\n",
      "Epoch 18, CIFAR-10 Batch 5:  loss= 0.232927009 valid_acc= 0.640599906\n",
      "Epoch 19, CIFAR-10 Batch 1:  loss= 0.411670923 valid_acc= 0.651599884\n",
      "Epoch 19, CIFAR-10 Batch 2:  loss= 0.235097468 valid_acc= 0.633199930\n",
      "Epoch 19, CIFAR-10 Batch 3:  loss= 0.284771055 valid_acc= 0.645199895\n",
      "Epoch 19, CIFAR-10 Batch 4:  loss= 0.325085223 valid_acc= 0.651799917\n",
      "Epoch 19, CIFAR-10 Batch 5:  loss= 0.256788671 valid_acc= 0.636999905\n",
      "Epoch 20, CIFAR-10 Batch 1:  loss= 0.370604008 valid_acc= 0.647399902\n",
      "Epoch 20, CIFAR-10 Batch 2:  loss= 0.217172503 valid_acc= 0.630999863\n",
      "Epoch 20, CIFAR-10 Batch 3:  loss= 0.227617428 valid_acc= 0.646999955\n",
      "Epoch 20, CIFAR-10 Batch 4:  loss= 0.316008091 valid_acc= 0.642399907\n",
      "Epoch 20, CIFAR-10 Batch 5:  loss= 0.241436958 valid_acc= 0.629799843\n",
      "Epoch 21, CIFAR-10 Batch 1:  loss= 0.358207405 valid_acc= 0.656799853\n",
      "Epoch 21, CIFAR-10 Batch 2:  loss= 0.158773556 valid_acc= 0.632199824\n",
      "Epoch 21, CIFAR-10 Batch 3:  loss= 0.228347465 valid_acc= 0.655599833\n",
      "Epoch 21, CIFAR-10 Batch 4:  loss= 0.283404201 valid_acc= 0.635599852\n",
      "Epoch 21, CIFAR-10 Batch 5:  loss= 0.147530556 valid_acc= 0.631399870\n",
      "Epoch 22, CIFAR-10 Batch 1:  loss= 0.354377151 valid_acc= 0.641599894\n",
      "Epoch 22, CIFAR-10 Batch 2:  loss= 0.220600605 valid_acc= 0.633599877\n",
      "Epoch 22, CIFAR-10 Batch 3:  loss= 0.195079848 valid_acc= 0.645399928\n",
      "Epoch 22, CIFAR-10 Batch 4:  loss= 0.239201099 valid_acc= 0.645399928\n",
      "Epoch 22, CIFAR-10 Batch 5:  loss= 0.191435069 valid_acc= 0.652199924\n",
      "Epoch 23, CIFAR-10 Batch 1:  loss= 0.389477760 valid_acc= 0.639999866\n",
      "Epoch 23, CIFAR-10 Batch 2:  loss= 0.201295555 valid_acc= 0.641199827\n",
      "Epoch 23, CIFAR-10 Batch 3:  loss= 0.183509707 valid_acc= 0.645799875\n",
      "Epoch 23, CIFAR-10 Batch 4:  loss= 0.296095699 valid_acc= 0.650199890\n",
      "Epoch 23, CIFAR-10 Batch 5:  loss= 0.151550353 valid_acc= 0.651799858\n",
      "Epoch 24, CIFAR-10 Batch 1:  loss= 0.299625307 valid_acc= 0.639799953\n",
      "Epoch 24, CIFAR-10 Batch 2:  loss= 0.162157327 valid_acc= 0.633599877\n",
      "Epoch 24, CIFAR-10 Batch 3:  loss= 0.206772894 valid_acc= 0.649599910\n",
      "Epoch 24, CIFAR-10 Batch 4:  loss= 0.201483950 valid_acc= 0.644399881\n",
      "Epoch 24, CIFAR-10 Batch 5:  loss= 0.131888241 valid_acc= 0.652599871\n",
      "Epoch 25, CIFAR-10 Batch 1:  loss= 0.266198844 valid_acc= 0.630199850\n",
      "Epoch 25, CIFAR-10 Batch 2:  loss= 0.196060210 valid_acc= 0.639799953\n",
      "Epoch 25, CIFAR-10 Batch 3:  loss= 0.196685523 valid_acc= 0.626199901\n",
      "Epoch 25, CIFAR-10 Batch 4:  loss= 0.229591936 valid_acc= 0.639399886\n",
      "Epoch 25, CIFAR-10 Batch 5:  loss= 0.132565975 valid_acc= 0.648199916\n",
      "Epoch 26, CIFAR-10 Batch 1:  loss= 0.273927361 valid_acc= 0.639399886\n",
      "Epoch 26, CIFAR-10 Batch 2:  loss= 0.207441285 valid_acc= 0.647199869\n",
      "Epoch 26, CIFAR-10 Batch 3:  loss= 0.205804020 valid_acc= 0.628399909\n",
      "Epoch 26, CIFAR-10 Batch 4:  loss= 0.179801494 valid_acc= 0.647599876\n",
      "Epoch 26, CIFAR-10 Batch 5:  loss= 0.161982313 valid_acc= 0.651199877\n",
      "Epoch 27, CIFAR-10 Batch 1:  loss= 0.218830898 valid_acc= 0.640599906\n",
      "Epoch 27, CIFAR-10 Batch 2:  loss= 0.180027515 valid_acc= 0.647599876\n",
      "Epoch 27, CIFAR-10 Batch 3:  loss= 0.135729402 valid_acc= 0.624799848\n",
      "Epoch 27, CIFAR-10 Batch 4:  loss= 0.168393165 valid_acc= 0.632599890\n",
      "Epoch 27, CIFAR-10 Batch 5:  loss= 0.145758063 valid_acc= 0.641799927\n",
      "Epoch 28, CIFAR-10 Batch 1:  loss= 0.205777943 valid_acc= 0.643399894\n",
      "Epoch 28, CIFAR-10 Batch 2:  loss= 0.153076902 valid_acc= 0.646199882\n",
      "Epoch 28, CIFAR-10 Batch 3:  loss= 0.108693846 valid_acc= 0.637199879\n",
      "Epoch 28, CIFAR-10 Batch 4:  loss= 0.178929836 valid_acc= 0.629599810\n",
      "Epoch 28, CIFAR-10 Batch 5:  loss= 0.096476048 valid_acc= 0.636799872\n",
      "Epoch 29, CIFAR-10 Batch 1:  loss= 0.207515299 valid_acc= 0.634199917\n",
      "Epoch 29, CIFAR-10 Batch 2:  loss= 0.148352757 valid_acc= 0.636799932\n",
      "Epoch 29, CIFAR-10 Batch 3:  loss= 0.134533554 valid_acc= 0.629399896\n",
      "Epoch 29, CIFAR-10 Batch 4:  loss= 0.185488418 valid_acc= 0.635199845\n",
      "Epoch 29, CIFAR-10 Batch 5:  loss= 0.091898598 valid_acc= 0.633999884\n",
      "Epoch 30, CIFAR-10 Batch 1:  loss= 0.163214594 valid_acc= 0.634199917\n",
      "Epoch 30, CIFAR-10 Batch 2:  loss= 0.158214495 valid_acc= 0.636199832\n",
      "Epoch 30, CIFAR-10 Batch 3:  loss= 0.199299008 valid_acc= 0.635799885\n",
      "Epoch 30, CIFAR-10 Batch 4:  loss= 0.152778774 valid_acc= 0.635599911\n",
      "Epoch 30, CIFAR-10 Batch 5:  loss= 0.090304151 valid_acc= 0.630799890\n",
      "Epoch 31, CIFAR-10 Batch 1:  loss= 0.213520318 valid_acc= 0.622599900\n",
      "Epoch 31, CIFAR-10 Batch 2:  loss= 0.131632656 valid_acc= 0.636599898\n",
      "Epoch 31, CIFAR-10 Batch 3:  loss= 0.124621555 valid_acc= 0.643199861\n",
      "Epoch 31, CIFAR-10 Batch 4:  loss= 0.194346070 valid_acc= 0.631399870\n",
      "Epoch 31, CIFAR-10 Batch 5:  loss= 0.058820806 valid_acc= 0.632599890\n",
      "Epoch 32, CIFAR-10 Batch 1:  loss= 0.144379705 valid_acc= 0.632999897\n",
      "Epoch 32, CIFAR-10 Batch 2:  loss= 0.150432363 valid_acc= 0.623799920\n",
      "Epoch 32, CIFAR-10 Batch 3:  loss= 0.131411716 valid_acc= 0.632399917\n",
      "Epoch 32, CIFAR-10 Batch 4:  loss= 0.154811472 valid_acc= 0.623599946\n",
      "Epoch 32, CIFAR-10 Batch 5:  loss= 0.108186126 valid_acc= 0.631799936\n",
      "Epoch 33, CIFAR-10 Batch 1:  loss= 0.156352788 valid_acc= 0.626799881\n",
      "Epoch 33, CIFAR-10 Batch 2:  loss= 0.120211914 valid_acc= 0.640399873\n",
      "Epoch 33, CIFAR-10 Batch 3:  loss= 0.085752316 valid_acc= 0.636599898\n",
      "Epoch 33, CIFAR-10 Batch 4:  loss= 0.146023050 valid_acc= 0.627199888\n",
      "Epoch 33, CIFAR-10 Batch 5:  loss= 0.054857343 valid_acc= 0.632399917\n",
      "Epoch 34, CIFAR-10 Batch 1:  loss= 0.155796543 valid_acc= 0.623599887\n",
      "Epoch 34, CIFAR-10 Batch 2:  loss= 0.151360214 valid_acc= 0.631999910\n",
      "Epoch 34, CIFAR-10 Batch 3:  loss= 0.103312403 valid_acc= 0.634999871\n",
      "Epoch 34, CIFAR-10 Batch 4:  loss= 0.118407778 valid_acc= 0.618199825\n",
      "Epoch 34, CIFAR-10 Batch 5:  loss= 0.079786807 valid_acc= 0.636799932\n",
      "Epoch 35, CIFAR-10 Batch 1:  loss= 0.116083279 valid_acc= 0.625199914\n",
      "Epoch 35, CIFAR-10 Batch 2:  loss= 0.133804142 valid_acc= 0.638599873\n",
      "Epoch 35, CIFAR-10 Batch 3:  loss= 0.097686835 valid_acc= 0.629199862\n",
      "Epoch 35, CIFAR-10 Batch 4:  loss= 0.137421250 valid_acc= 0.617399931\n",
      "Epoch 35, CIFAR-10 Batch 5:  loss= 0.105470762 valid_acc= 0.632599890\n",
      "Epoch 36, CIFAR-10 Batch 1:  loss= 0.169312179 valid_acc= 0.611799955\n",
      "Epoch 36, CIFAR-10 Batch 2:  loss= 0.101334728 valid_acc= 0.632399857\n",
      "Epoch 36, CIFAR-10 Batch 3:  loss= 0.115957186 valid_acc= 0.637199879\n",
      "Epoch 36, CIFAR-10 Batch 4:  loss= 0.104358047 valid_acc= 0.624599934\n",
      "Epoch 36, CIFAR-10 Batch 5:  loss= 0.071316019 valid_acc= 0.636199892\n",
      "Epoch 37, CIFAR-10 Batch 1:  loss= 0.129418343 valid_acc= 0.614599884\n",
      "Epoch 37, CIFAR-10 Batch 2:  loss= 0.097274840 valid_acc= 0.639799833\n",
      "Epoch 37, CIFAR-10 Batch 3:  loss= 0.111998260 valid_acc= 0.632999897\n",
      "Epoch 37, CIFAR-10 Batch 4:  loss= 0.092906699 valid_acc= 0.621799946\n",
      "Epoch 37, CIFAR-10 Batch 5:  loss= 0.055312809 valid_acc= 0.636599898\n",
      "Epoch 38, CIFAR-10 Batch 1:  loss= 0.116706215 valid_acc= 0.623599887\n",
      "Epoch 38, CIFAR-10 Batch 2:  loss= 0.080586031 valid_acc= 0.633599818\n",
      "Epoch 38, CIFAR-10 Batch 3:  loss= 0.091835774 valid_acc= 0.633799911\n",
      "Epoch 38, CIFAR-10 Batch 4:  loss= 0.098477542 valid_acc= 0.626199901\n",
      "Epoch 38, CIFAR-10 Batch 5:  loss= 0.052037138 valid_acc= 0.625999928\n",
      "Epoch 39, CIFAR-10 Batch 1:  loss= 0.113292016 valid_acc= 0.619799912\n",
      "Epoch 39, CIFAR-10 Batch 2:  loss= 0.116762549 valid_acc= 0.632999897\n",
      "Epoch 39, CIFAR-10 Batch 3:  loss= 0.065769933 valid_acc= 0.636199951\n",
      "Epoch 39, CIFAR-10 Batch 4:  loss= 0.077196009 valid_acc= 0.615999937\n",
      "Epoch 39, CIFAR-10 Batch 5:  loss= 0.049269743 valid_acc= 0.629599929\n",
      "Epoch 40, CIFAR-10 Batch 1:  loss= 0.119057164 valid_acc= 0.617799878\n",
      "Epoch 40, CIFAR-10 Batch 2:  loss= 0.105080537 valid_acc= 0.627999902\n",
      "Epoch 40, CIFAR-10 Batch 3:  loss= 0.103656098 valid_acc= 0.638999879\n",
      "Epoch 40, CIFAR-10 Batch 4:  loss= 0.076051563 valid_acc= 0.619199932\n",
      "Epoch 40, CIFAR-10 Batch 5:  loss= 0.040492970 valid_acc= 0.622999907\n"
     ]
    }
   ],
   "source": [
    "\"\"\"\n",
    "DON'T MODIFY ANYTHING IN THIS CELL\n",
    "\"\"\"\n",
    "save_model_path = './image_classification'\n",
    "\n",
    "print('Training...')\n",
    "with tf.Session() as sess:\n",
    "    # Initializing the variables\n",
    "    sess.run(tf.global_variables_initializer())\n",
    "    \n",
    "    # Training cycle\n",
    "    for epoch in range(epochs):\n",
    "        # Loop over all batches\n",
    "        n_batches = 5\n",
    "        for batch_i in range(1, n_batches + 1):\n",
    "            for batch_features, batch_labels in helper.load_preprocess_training_batch(batch_i, batch_size):\n",
    "                train_neural_network(sess, optimizer, keep_probability, batch_features, batch_labels)\n",
    "            print('Epoch {:>2}, CIFAR-10 Batch {}:  '.format(epoch + 1, batch_i), end='')\n",
    "            print_stats(sess, batch_features, batch_labels, cost, accuracy)\n",
    "            \n",
    "    # Save Model\n",
    "    saver = tf.train.Saver()\n",
    "    save_path = saver.save(sess, save_model_path)"
   ]
  },
  {
   "cell_type": "markdown",
   "metadata": {
    "deletable": true,
    "editable": true
   },
   "source": [
    "# Checkpoint\n",
    "The model has been saved to disk.\n",
    "## Test Model\n",
    "Test your model against the test dataset.  This will be your final accuracy. You should have an accuracy greater than 50%. If you don't, keep tweaking the model architecture and parameters."
   ]
  },
  {
   "cell_type": "code",
   "execution_count": 16,
   "metadata": {
    "collapsed": false,
    "deletable": true,
    "editable": true
   },
   "outputs": [
    {
     "data": {
      "text/plain": [
       "\"\\nDON'T MODIFY ANYTHING IN THIS CELL\\n\""
      ]
     },
     "execution_count": 16,
     "metadata": {},
     "output_type": "execute_result"
    },
    {
     "name": "stdout",
     "output_type": "stream",
     "text": [
      "INFO:tensorflow:Restoring parameters from ./image_classification\n",
      "Testing Accuracy: 0.6283837579617835\n",
      "\n"
     ]
    },
    {
     "data": {
      "image/png": "[encoded data removed]",
      "text/plain": [
       "<matplotlib.figure.Figure at 0x7f03d4135f28>"
      ]
     },
     "metadata": {
      "image/png": {
       "height": 319,
       "width": 355
      }
     },
     "output_type": "display_data"
    }
   ],
   "source": [
    "\"\"\"\n",
    "DON'T MODIFY ANYTHING IN THIS CELL\n",
    "\"\"\"\n",
    "%matplotlib inline\n",
    "%config InlineBackend.figure_format = 'retina'\n",
    "\n",
    "import tensorflow as tf\n",
    "import pickle\n",
    "import helper\n",
    "import random\n",
    "\n",
    "# Set batch size if not already set\n",
    "try:\n",
    "    if batch_size:\n",
    "        pass\n",
    "except NameError:\n",
    "    batch_size = 64\n",
    "\n",
    "save_model_path = './image_classification'\n",
    "n_samples = 4\n",
    "top_n_predictions = 3\n",
    "\n",
    "def test_model():\n",
    "    \"\"\"\n",
    "    Test the saved model against the test dataset\n",
    "    \"\"\"\n",
    "\n",
    "    test_features, test_labels = pickle.load(open('preprocess_training.p', mode='rb'))\n",
    "    loaded_graph = tf.Graph()\n",
    "\n",
    "    with tf.Session(graph=loaded_graph) as sess:\n",
    "        # Load model\n",
    "        loader = tf.train.import_meta_graph(save_model_path + '.meta')\n",
    "        loader.restore(sess, save_model_path)\n",
    "\n",
    "        # Get Tensors from loaded model\n",
    "        loaded_x = loaded_graph.get_tensor_by_name('x:0')\n",
    "        loaded_y = loaded_graph.get_tensor_by_name('y:0')\n",
    "        loaded_keep_prob = loaded_graph.get_tensor_by_name('keep_prob:0')\n",
    "        loaded_logits = loaded_graph.get_tensor_by_name('logits:0')\n",
    "        loaded_acc = loaded_graph.get_tensor_by_name('accuracy:0')\n",
    "        \n",
    "        # Get accuracy in batches for memory limitations\n",
    "        test_batch_acc_total = 0\n",
    "        test_batch_count = 0\n",
    "        \n",
    "        for train_feature_batch, train_label_batch in helper.batch_features_labels(test_features, test_labels, batch_size):\n",
    "            test_batch_acc_total += sess.run(\n",
    "                loaded_acc,\n",
    "                feed_dict={loaded_x: train_feature_batch, loaded_y: train_label_batch, loaded_keep_prob: 1.0})\n",
    "            test_batch_count += 1\n",
    "\n",
    "        print('Testing Accuracy: {}\\n'.format(test_batch_acc_total/test_batch_count))\n",
    "\n",
    "        # Print Random Samples\n",
    "        random_test_features, random_test_labels = tuple(zip(*random.sample(list(zip(test_features, test_labels)), n_samples)))\n",
    "        random_test_predictions = sess.run(\n",
    "            tf.nn.top_k(tf.nn.softmax(loaded_logits), top_n_predictions),\n",
    "            feed_dict={loaded_x: random_test_features, loaded_y: random_test_labels, loaded_keep_prob: 1.0})\n",
    "        helper.display_image_predictions(random_test_features, random_test_labels, random_test_predictions)\n",
    "\n",
    "\n",
    "test_model()"
   ]
  },
  {
   "cell_type": "markdown",
   "metadata": {
    "deletable": true,
    "editable": true
   },
   "source": [
    "## Why 50-80% Accuracy?\n",
    "You might be wondering why you can't get an accuracy any higher. First things first, 50% isn't bad for a simple CNN.  Pure guessing would get you 10% accuracy. However, you might notice people are getting scores [well above 80%](http://rodrigob.github.io/are_we_there_yet/build/classification_datasets_results.html#43494641522d3130).  That's because we haven't taught you all there is to know about neural networks. We still need to cover a few more techniques.\n",
    "## Submitting This Project\n",
    "When submitting this project, make sure to run all the cells before saving the notebook.  Save the notebook file as \"dlnd_image_classification.ipynb\" and save it as a HTML file under \"File\" -> \"Download as\".  Include the \"helper.py\" and \"problem_unittests.py\" files in your submission."
   ]
  }
 ],
 "metadata": {
  "anaconda-cloud": {},
  "kernelspec": {
   "display_name": "Python [conda env:dlnd]",
   "language": "python",
   "name": "conda-env-dlnd-py"
  },
  "language_info": {
   "codemirror_mode": {
    "name": "ipython",
    "version": 3
   },
   "file_extension": ".py",
   "mimetype": "text/x-python",
   "name": "python",
   "nbconvert_exporter": "python",
   "pygments_lexer": "ipython3",
   "version": "3.6.1"
  }
 },
 "nbformat": 4,
 "nbformat_minor": 1
}
